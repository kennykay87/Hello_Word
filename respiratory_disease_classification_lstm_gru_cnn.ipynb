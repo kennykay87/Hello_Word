{
  "cells": [
    {
      "cell_type": "markdown",
      "metadata": {
        "id": "view-in-github",
        "colab_type": "text"
      },
      "source": [
        "<a href=\"https://colab.research.google.com/github/kennykay87/Hello_Word/blob/master/respiratory_disease_classification_lstm_gru_cnn.ipynb\" target=\"_parent\"><img src=\"https://colab.research.google.com/assets/colab-badge.svg\" alt=\"Open In Colab\"/></a>"
      ]
    },
    {
      "cell_type": "code",
      "execution_count": 6,
      "id": "da8bd35c",
      "metadata": {
        "execution": {
          "iopub.execute_input": "2023-06-02T06:05:31.095337Z",
          "iopub.status.busy": "2023-06-02T06:05:31.094470Z",
          "iopub.status.idle": "2023-06-02T06:05:39.004912Z",
          "shell.execute_reply": "2023-06-02T06:05:39.003051Z"
        },
        "papermill": {
          "duration": 7.936091,
          "end_time": "2023-06-02T06:05:39.011619",
          "exception": false,
          "start_time": "2023-06-02T06:05:31.075528",
          "status": "completed"
        },
        "tags": [],
        "colab": {
          "base_uri": "https://localhost:8080/",
          "height": 383
        },
        "id": "da8bd35c",
        "outputId": "d3d2ede7-6d23-4d92-86b9-6feeef9a3254"
      },
      "outputs": [
        {
          "output_type": "error",
          "ename": "ImportError",
          "evalue": "ignored",
          "traceback": [
            "\u001b[0;31m---------------------------------------------------------------------------\u001b[0m",
            "\u001b[0;31mImportError\u001b[0m                               Traceback (most recent call last)",
            "\u001b[0;32m<ipython-input-6-26e27eeeac51>\u001b[0m in \u001b[0;36m<cell line: 15>\u001b[0;34m()\u001b[0m\n\u001b[1;32m     13\u001b[0m \u001b[0;32mimport\u001b[0m \u001b[0mlibrosa\u001b[0m\u001b[0;34m.\u001b[0m\u001b[0mdisplay\u001b[0m\u001b[0;34m\u001b[0m\u001b[0;34m\u001b[0m\u001b[0m\n\u001b[1;32m     14\u001b[0m \u001b[0;34m\u001b[0m\u001b[0m\n\u001b[0;32m---> 15\u001b[0;31m \u001b[0;32mfrom\u001b[0m \u001b[0mkeras\u001b[0m\u001b[0;34m.\u001b[0m\u001b[0mutils\u001b[0m \u001b[0;32mimport\u001b[0m \u001b[0mnp_utils\u001b[0m\u001b[0;34m\u001b[0m\u001b[0;34m\u001b[0m\u001b[0m\n\u001b[0m\u001b[1;32m     16\u001b[0m \u001b[0;32mfrom\u001b[0m \u001b[0mkeras\u001b[0m\u001b[0;34m.\u001b[0m\u001b[0mlayers\u001b[0m\u001b[0;34m.\u001b[0m\u001b[0mmerge\u001b[0m \u001b[0;32mimport\u001b[0m \u001b[0mconcatenate\u001b[0m\u001b[0;34m\u001b[0m\u001b[0;34m\u001b[0m\u001b[0m\n\u001b[1;32m     17\u001b[0m \u001b[0;32mfrom\u001b[0m \u001b[0mtensorflow\u001b[0m\u001b[0;34m.\u001b[0m\u001b[0mkeras\u001b[0m\u001b[0;34m.\u001b[0m\u001b[0mmodels\u001b[0m \u001b[0;32mimport\u001b[0m \u001b[0mSequential\u001b[0m\u001b[0;34m,\u001b[0m \u001b[0mModel\u001b[0m\u001b[0;34m,\u001b[0m \u001b[0mload_model\u001b[0m\u001b[0;34m\u001b[0m\u001b[0;34m\u001b[0m\u001b[0m\n",
            "\u001b[0;31mImportError\u001b[0m: cannot import name 'np_utils' from 'keras.utils' (/usr/local/lib/python3.10/dist-packages/keras/utils/__init__.py)",
            "",
            "\u001b[0;31m---------------------------------------------------------------------------\u001b[0;32m\nNOTE: If your import is failing due to a missing package, you can\nmanually install dependencies using either !pip or !apt.\n\nTo view examples of installing some common dependencies, click the\n\"Open Examples\" button below.\n\u001b[0;31m---------------------------------------------------------------------------\u001b[0m\n"
          ],
          "errorDetails": {
            "actions": [
              {
                "action": "open_url",
                "actionText": "Open Examples",
                "url": "/notebooks/snippets/importing_libraries.ipynb"
              }
            ]
          }
        }
      ],
      "source": [
        "import os\n",
        "\n",
        "import wave\n",
        "import numpy as np\n",
        "import pandas as pd\n",
        "import seaborn as sns\n",
        "import tensorflow as tf\n",
        "import matplotlib.pyplot as plt\n",
        "\n",
        "from IPython.display import Audio\n",
        "\n",
        "import librosa\n",
        "import librosa.display\n",
        "\n",
        "from keras.utils import np_utils\n",
        "from keras.layers.merge import concatenate\n",
        "from tensorflow.keras.models import Sequential, Model, load_model\n",
        "\n",
        "from tensorflow.keras.layers import Conv1D, Conv2D, SeparableConv1D, MaxPooling1D, MaxPooling2D\n",
        "from tensorflow.keras.layers import Input, add, Flatten, Dense, BatchNormalization, Dropout, LSTM, GRU\n",
        "from tensorflow.keras.layers import GlobalMaxPooling1D, GlobalMaxPooling2D, Activation, LeakyReLU, ReLU\n",
        "\n",
        "# from tensorflow.keras.layers import Embedding,LSTM,GRU,Dense,MaxPooling1D,Dropout, Input\n",
        "# from tensorflow.keras.layers import LeakyReLU,ReLU,Flatten,concatenate,Bidirectional,TimeDistributed\n",
        "# from tensorflow.keras.layers import add,Conv1D,SeparableConv1D, GlobalMaxPooling2D,GlobalMaxPooling1D\n",
        "# from tensorflow.keras.layers import Conv2D,Input,Activation,BatchNormalization,MaxPooling2D\n",
        "\n",
        "from tensorflow.keras import regularizers\n",
        "from tensorflow.keras import backend as K\n",
        "from tensorflow.keras.optimizers import Adamax\n",
        "from tensorflow.keras.callbacks import ModelCheckpoint, EarlyStopping\n",
        "\n",
        "from sklearn.model_selection import train_test_split\n",
        "from sklearn.metrics import accuracy_score,precision_score,recall_score,f1_score,matthews_corrcoef\n",
        "from sklearn.metrics import cohen_kappa_score,roc_auc_score,confusion_matrix,classification_report"
      ]
    },
    {
      "cell_type": "code",
      "source": [],
      "metadata": {
        "id": "M3vp6kCpPluQ"
      },
      "id": "M3vp6kCpPluQ",
      "execution_count": 2,
      "outputs": []
    },
    {
      "cell_type": "markdown",
      "source": [],
      "metadata": {
        "id": "E2eijWJrPmrz"
      },
      "id": "E2eijWJrPmrz"
    },
    {
      "cell_type": "code",
      "execution_count": 3,
      "id": "bf42c911",
      "metadata": {
        "execution": {
          "iopub.execute_input": "2023-06-02T06:05:39.037851Z",
          "iopub.status.busy": "2023-06-02T06:05:39.035585Z",
          "iopub.status.idle": "2023-06-02T06:05:39.041920Z",
          "shell.execute_reply": "2023-06-02T06:05:39.040928Z"
        },
        "papermill": {
          "duration": 0.019324,
          "end_time": "2023-06-02T06:05:39.044216",
          "exception": false,
          "start_time": "2023-06-02T06:05:39.024892",
          "status": "completed"
        },
        "tags": [],
        "id": "bf42c911"
      },
      "outputs": [],
      "source": [
        "audio_data = '/kaggle/input/respiratory-sound-database/Respiratory_Sound_Database/Respiratory_Sound_Database/audio_and_txt_files/'"
      ]
    },
    {
      "cell_type": "code",
      "execution_count": 4,
      "id": "aa5ccc8f",
      "metadata": {
        "execution": {
          "iopub.execute_input": "2023-06-02T06:05:39.064893Z",
          "iopub.status.busy": "2023-06-02T06:05:39.064271Z",
          "iopub.status.idle": "2023-06-02T06:05:39.090080Z",
          "shell.execute_reply": "2023-06-02T06:05:39.089130Z"
        },
        "papermill": {
          "duration": 0.038749,
          "end_time": "2023-06-02T06:05:39.092630",
          "exception": false,
          "start_time": "2023-06-02T06:05:39.053881",
          "status": "completed"
        },
        "tags": [],
        "colab": {
          "base_uri": "https://localhost:8080/",
          "height": 321
        },
        "id": "aa5ccc8f",
        "outputId": "37506d31-4810-4e6b-d216-db0ada033421"
      },
      "outputs": [
        {
          "output_type": "error",
          "ename": "FileNotFoundError",
          "evalue": "ignored",
          "traceback": [
            "\u001b[0;31m---------------------------------------------------------------------------\u001b[0m",
            "\u001b[0;31mFileNotFoundError\u001b[0m                         Traceback (most recent call last)",
            "\u001b[0;32m<ipython-input-4-ec40c325a16d>\u001b[0m in \u001b[0;36m<cell line: 1>\u001b[0;34m()\u001b[0m\n\u001b[0;32m----> 1\u001b[0;31m \u001b[0mpatient_data\u001b[0m\u001b[0;34m=\u001b[0m\u001b[0mpd\u001b[0m\u001b[0;34m.\u001b[0m\u001b[0mread_csv\u001b[0m\u001b[0;34m(\u001b[0m\u001b[0;34m'/kaggle/input/respiratory-sound-database/Respiratory_Sound_Database/Respiratory_Sound_Database/patient_diagnosis.csv'\u001b[0m\u001b[0;34m,\u001b[0m\u001b[0mnames\u001b[0m\u001b[0;34m=\u001b[0m\u001b[0;34m[\u001b[0m\u001b[0;34m'pid'\u001b[0m\u001b[0;34m,\u001b[0m\u001b[0;34m'disease'\u001b[0m\u001b[0;34m]\u001b[0m\u001b[0;34m)\u001b[0m\u001b[0;34m\u001b[0m\u001b[0;34m\u001b[0m\u001b[0m\n\u001b[0m",
            "\u001b[0;32m/usr/local/lib/python3.10/dist-packages/pandas/util/_decorators.py\u001b[0m in \u001b[0;36mwrapper\u001b[0;34m(*args, **kwargs)\u001b[0m\n\u001b[1;32m    209\u001b[0m                 \u001b[0;32melse\u001b[0m\u001b[0;34m:\u001b[0m\u001b[0;34m\u001b[0m\u001b[0;34m\u001b[0m\u001b[0m\n\u001b[1;32m    210\u001b[0m                     \u001b[0mkwargs\u001b[0m\u001b[0;34m[\u001b[0m\u001b[0mnew_arg_name\u001b[0m\u001b[0;34m]\u001b[0m \u001b[0;34m=\u001b[0m \u001b[0mnew_arg_value\u001b[0m\u001b[0;34m\u001b[0m\u001b[0;34m\u001b[0m\u001b[0m\n\u001b[0;32m--> 211\u001b[0;31m             \u001b[0;32mreturn\u001b[0m \u001b[0mfunc\u001b[0m\u001b[0;34m(\u001b[0m\u001b[0;34m*\u001b[0m\u001b[0margs\u001b[0m\u001b[0;34m,\u001b[0m \u001b[0;34m**\u001b[0m\u001b[0mkwargs\u001b[0m\u001b[0;34m)\u001b[0m\u001b[0;34m\u001b[0m\u001b[0;34m\u001b[0m\u001b[0m\n\u001b[0m\u001b[1;32m    212\u001b[0m \u001b[0;34m\u001b[0m\u001b[0m\n\u001b[1;32m    213\u001b[0m         \u001b[0;32mreturn\u001b[0m \u001b[0mcast\u001b[0m\u001b[0;34m(\u001b[0m\u001b[0mF\u001b[0m\u001b[0;34m,\u001b[0m \u001b[0mwrapper\u001b[0m\u001b[0;34m)\u001b[0m\u001b[0;34m\u001b[0m\u001b[0;34m\u001b[0m\u001b[0m\n",
            "\u001b[0;32m/usr/local/lib/python3.10/dist-packages/pandas/util/_decorators.py\u001b[0m in \u001b[0;36mwrapper\u001b[0;34m(*args, **kwargs)\u001b[0m\n\u001b[1;32m    329\u001b[0m                     \u001b[0mstacklevel\u001b[0m\u001b[0;34m=\u001b[0m\u001b[0mfind_stack_level\u001b[0m\u001b[0;34m(\u001b[0m\u001b[0;34m)\u001b[0m\u001b[0;34m,\u001b[0m\u001b[0;34m\u001b[0m\u001b[0;34m\u001b[0m\u001b[0m\n\u001b[1;32m    330\u001b[0m                 )\n\u001b[0;32m--> 331\u001b[0;31m             \u001b[0;32mreturn\u001b[0m \u001b[0mfunc\u001b[0m\u001b[0;34m(\u001b[0m\u001b[0;34m*\u001b[0m\u001b[0margs\u001b[0m\u001b[0;34m,\u001b[0m \u001b[0;34m**\u001b[0m\u001b[0mkwargs\u001b[0m\u001b[0;34m)\u001b[0m\u001b[0;34m\u001b[0m\u001b[0;34m\u001b[0m\u001b[0m\n\u001b[0m\u001b[1;32m    332\u001b[0m \u001b[0;34m\u001b[0m\u001b[0m\n\u001b[1;32m    333\u001b[0m         \u001b[0;31m# error: \"Callable[[VarArg(Any), KwArg(Any)], Any]\" has no\u001b[0m\u001b[0;34m\u001b[0m\u001b[0;34m\u001b[0m\u001b[0m\n",
            "\u001b[0;32m/usr/local/lib/python3.10/dist-packages/pandas/io/parsers/readers.py\u001b[0m in \u001b[0;36mread_csv\u001b[0;34m(filepath_or_buffer, sep, delimiter, header, names, index_col, usecols, squeeze, prefix, mangle_dupe_cols, dtype, engine, converters, true_values, false_values, skipinitialspace, skiprows, skipfooter, nrows, na_values, keep_default_na, na_filter, verbose, skip_blank_lines, parse_dates, infer_datetime_format, keep_date_col, date_parser, dayfirst, cache_dates, iterator, chunksize, compression, thousands, decimal, lineterminator, quotechar, quoting, doublequote, escapechar, comment, encoding, encoding_errors, dialect, error_bad_lines, warn_bad_lines, on_bad_lines, delim_whitespace, low_memory, memory_map, float_precision, storage_options)\u001b[0m\n\u001b[1;32m    948\u001b[0m     \u001b[0mkwds\u001b[0m\u001b[0;34m.\u001b[0m\u001b[0mupdate\u001b[0m\u001b[0;34m(\u001b[0m\u001b[0mkwds_defaults\u001b[0m\u001b[0;34m)\u001b[0m\u001b[0;34m\u001b[0m\u001b[0;34m\u001b[0m\u001b[0m\n\u001b[1;32m    949\u001b[0m \u001b[0;34m\u001b[0m\u001b[0m\n\u001b[0;32m--> 950\u001b[0;31m     \u001b[0;32mreturn\u001b[0m \u001b[0m_read\u001b[0m\u001b[0;34m(\u001b[0m\u001b[0mfilepath_or_buffer\u001b[0m\u001b[0;34m,\u001b[0m \u001b[0mkwds\u001b[0m\u001b[0;34m)\u001b[0m\u001b[0;34m\u001b[0m\u001b[0;34m\u001b[0m\u001b[0m\n\u001b[0m\u001b[1;32m    951\u001b[0m \u001b[0;34m\u001b[0m\u001b[0m\n\u001b[1;32m    952\u001b[0m \u001b[0;34m\u001b[0m\u001b[0m\n",
            "\u001b[0;32m/usr/local/lib/python3.10/dist-packages/pandas/io/parsers/readers.py\u001b[0m in \u001b[0;36m_read\u001b[0;34m(filepath_or_buffer, kwds)\u001b[0m\n\u001b[1;32m    603\u001b[0m \u001b[0;34m\u001b[0m\u001b[0m\n\u001b[1;32m    604\u001b[0m     \u001b[0;31m# Create the parser.\u001b[0m\u001b[0;34m\u001b[0m\u001b[0;34m\u001b[0m\u001b[0m\n\u001b[0;32m--> 605\u001b[0;31m     \u001b[0mparser\u001b[0m \u001b[0;34m=\u001b[0m \u001b[0mTextFileReader\u001b[0m\u001b[0;34m(\u001b[0m\u001b[0mfilepath_or_buffer\u001b[0m\u001b[0;34m,\u001b[0m \u001b[0;34m**\u001b[0m\u001b[0mkwds\u001b[0m\u001b[0;34m)\u001b[0m\u001b[0;34m\u001b[0m\u001b[0;34m\u001b[0m\u001b[0m\n\u001b[0m\u001b[1;32m    606\u001b[0m \u001b[0;34m\u001b[0m\u001b[0m\n\u001b[1;32m    607\u001b[0m     \u001b[0;32mif\u001b[0m \u001b[0mchunksize\u001b[0m \u001b[0;32mor\u001b[0m \u001b[0miterator\u001b[0m\u001b[0;34m:\u001b[0m\u001b[0;34m\u001b[0m\u001b[0;34m\u001b[0m\u001b[0m\n",
            "\u001b[0;32m/usr/local/lib/python3.10/dist-packages/pandas/io/parsers/readers.py\u001b[0m in \u001b[0;36m__init__\u001b[0;34m(self, f, engine, **kwds)\u001b[0m\n\u001b[1;32m   1440\u001b[0m \u001b[0;34m\u001b[0m\u001b[0m\n\u001b[1;32m   1441\u001b[0m         \u001b[0mself\u001b[0m\u001b[0;34m.\u001b[0m\u001b[0mhandles\u001b[0m\u001b[0;34m:\u001b[0m \u001b[0mIOHandles\u001b[0m \u001b[0;34m|\u001b[0m \u001b[0;32mNone\u001b[0m \u001b[0;34m=\u001b[0m \u001b[0;32mNone\u001b[0m\u001b[0;34m\u001b[0m\u001b[0;34m\u001b[0m\u001b[0m\n\u001b[0;32m-> 1442\u001b[0;31m         \u001b[0mself\u001b[0m\u001b[0;34m.\u001b[0m\u001b[0m_engine\u001b[0m \u001b[0;34m=\u001b[0m \u001b[0mself\u001b[0m\u001b[0;34m.\u001b[0m\u001b[0m_make_engine\u001b[0m\u001b[0;34m(\u001b[0m\u001b[0mf\u001b[0m\u001b[0;34m,\u001b[0m \u001b[0mself\u001b[0m\u001b[0;34m.\u001b[0m\u001b[0mengine\u001b[0m\u001b[0;34m)\u001b[0m\u001b[0;34m\u001b[0m\u001b[0;34m\u001b[0m\u001b[0m\n\u001b[0m\u001b[1;32m   1443\u001b[0m \u001b[0;34m\u001b[0m\u001b[0m\n\u001b[1;32m   1444\u001b[0m     \u001b[0;32mdef\u001b[0m \u001b[0mclose\u001b[0m\u001b[0;34m(\u001b[0m\u001b[0mself\u001b[0m\u001b[0;34m)\u001b[0m \u001b[0;34m->\u001b[0m \u001b[0;32mNone\u001b[0m\u001b[0;34m:\u001b[0m\u001b[0;34m\u001b[0m\u001b[0;34m\u001b[0m\u001b[0m\n",
            "\u001b[0;32m/usr/local/lib/python3.10/dist-packages/pandas/io/parsers/readers.py\u001b[0m in \u001b[0;36m_make_engine\u001b[0;34m(self, f, engine)\u001b[0m\n\u001b[1;32m   1733\u001b[0m                 \u001b[0;32mif\u001b[0m \u001b[0;34m\"b\"\u001b[0m \u001b[0;32mnot\u001b[0m \u001b[0;32min\u001b[0m \u001b[0mmode\u001b[0m\u001b[0;34m:\u001b[0m\u001b[0;34m\u001b[0m\u001b[0;34m\u001b[0m\u001b[0m\n\u001b[1;32m   1734\u001b[0m                     \u001b[0mmode\u001b[0m \u001b[0;34m+=\u001b[0m \u001b[0;34m\"b\"\u001b[0m\u001b[0;34m\u001b[0m\u001b[0;34m\u001b[0m\u001b[0m\n\u001b[0;32m-> 1735\u001b[0;31m             self.handles = get_handle(\n\u001b[0m\u001b[1;32m   1736\u001b[0m                 \u001b[0mf\u001b[0m\u001b[0;34m,\u001b[0m\u001b[0;34m\u001b[0m\u001b[0;34m\u001b[0m\u001b[0m\n\u001b[1;32m   1737\u001b[0m                 \u001b[0mmode\u001b[0m\u001b[0;34m,\u001b[0m\u001b[0;34m\u001b[0m\u001b[0;34m\u001b[0m\u001b[0m\n",
            "\u001b[0;32m/usr/local/lib/python3.10/dist-packages/pandas/io/common.py\u001b[0m in \u001b[0;36mget_handle\u001b[0;34m(path_or_buf, mode, encoding, compression, memory_map, is_text, errors, storage_options)\u001b[0m\n\u001b[1;32m    854\u001b[0m         \u001b[0;32mif\u001b[0m \u001b[0mioargs\u001b[0m\u001b[0;34m.\u001b[0m\u001b[0mencoding\u001b[0m \u001b[0;32mand\u001b[0m \u001b[0;34m\"b\"\u001b[0m \u001b[0;32mnot\u001b[0m \u001b[0;32min\u001b[0m \u001b[0mioargs\u001b[0m\u001b[0;34m.\u001b[0m\u001b[0mmode\u001b[0m\u001b[0;34m:\u001b[0m\u001b[0;34m\u001b[0m\u001b[0;34m\u001b[0m\u001b[0m\n\u001b[1;32m    855\u001b[0m             \u001b[0;31m# Encoding\u001b[0m\u001b[0;34m\u001b[0m\u001b[0;34m\u001b[0m\u001b[0m\n\u001b[0;32m--> 856\u001b[0;31m             handle = open(\n\u001b[0m\u001b[1;32m    857\u001b[0m                 \u001b[0mhandle\u001b[0m\u001b[0;34m,\u001b[0m\u001b[0;34m\u001b[0m\u001b[0;34m\u001b[0m\u001b[0m\n\u001b[1;32m    858\u001b[0m                 \u001b[0mioargs\u001b[0m\u001b[0;34m.\u001b[0m\u001b[0mmode\u001b[0m\u001b[0;34m,\u001b[0m\u001b[0;34m\u001b[0m\u001b[0;34m\u001b[0m\u001b[0m\n",
            "\u001b[0;31mFileNotFoundError\u001b[0m: [Errno 2] No such file or directory: '/kaggle/input/respiratory-sound-database/Respiratory_Sound_Database/Respiratory_Sound_Database/patient_diagnosis.csv'"
          ]
        }
      ],
      "source": [
        "patient_data=pd.read_csv('/kaggle/input/respiratory-sound-database/Respiratory_Sound_Database/Respiratory_Sound_Database/patient_diagnosis.csv',names=['pid','disease'])"
      ]
    },
    {
      "cell_type": "code",
      "execution_count": null,
      "id": "6f1ea0ea",
      "metadata": {
        "execution": {
          "iopub.execute_input": "2023-06-02T06:05:39.114473Z",
          "iopub.status.busy": "2023-06-02T06:05:39.112692Z",
          "iopub.status.idle": "2023-06-02T06:05:39.134619Z",
          "shell.execute_reply": "2023-06-02T06:05:39.133597Z"
        },
        "papermill": {
          "duration": 0.034684,
          "end_time": "2023-06-02T06:05:39.136836",
          "exception": false,
          "start_time": "2023-06-02T06:05:39.102152",
          "status": "completed"
        },
        "tags": [],
        "id": "6f1ea0ea"
      },
      "outputs": [],
      "source": [
        "diagnosis_df = pd.read_csv('../input/respiratory-sound-database/Respiratory_Sound_Database/Respiratory_Sound_Database/patient_diagnosis.csv', names=['patient_id', 'disease'])\n",
        "diagnosis_df.head(4)"
      ]
    },
    {
      "cell_type": "code",
      "execution_count": null,
      "id": "f3681172",
      "metadata": {
        "execution": {
          "iopub.execute_input": "2023-06-02T06:05:39.157971Z",
          "iopub.status.busy": "2023-06-02T06:05:39.157595Z",
          "iopub.status.idle": "2023-06-02T06:05:39.174150Z",
          "shell.execute_reply": "2023-06-02T06:05:39.172437Z"
        },
        "papermill": {
          "duration": 0.029636,
          "end_time": "2023-06-02T06:05:39.176419",
          "exception": false,
          "start_time": "2023-06-02T06:05:39.146783",
          "status": "completed"
        },
        "tags": [],
        "id": "f3681172"
      },
      "outputs": [],
      "source": [
        "print (diagnosis_df.disease.value_counts())\n",
        "print ('')\n",
        "print (diagnosis_df.disease.value_counts(normalize=True) *100)"
      ]
    },
    {
      "cell_type": "code",
      "execution_count": null,
      "id": "343829d7",
      "metadata": {
        "execution": {
          "iopub.execute_input": "2023-06-02T06:05:39.198318Z",
          "iopub.status.busy": "2023-06-02T06:05:39.197368Z",
          "iopub.status.idle": "2023-06-02T06:05:39.483533Z",
          "shell.execute_reply": "2023-06-02T06:05:39.482521Z"
        },
        "papermill": {
          "duration": 0.299632,
          "end_time": "2023-06-02T06:05:39.485876",
          "exception": false,
          "start_time": "2023-06-02T06:05:39.186244",
          "status": "completed"
        },
        "tags": [],
        "id": "343829d7"
      },
      "outputs": [],
      "source": [
        "sns.countplot(diagnosis_df.disease)\n",
        "plt.grid(axis = 'y',color = 'green', linestyle = '--', linewidth = 0.5)\n",
        "plt.xticks(rotation=90)"
      ]
    },
    {
      "cell_type": "code",
      "execution_count": null,
      "id": "668c5e60",
      "metadata": {
        "execution": {
          "iopub.execute_input": "2023-06-02T06:05:39.510331Z",
          "iopub.status.busy": "2023-06-02T06:05:39.509381Z",
          "iopub.status.idle": "2023-06-02T06:05:39.730940Z",
          "shell.execute_reply": "2023-06-02T06:05:39.729650Z"
        },
        "papermill": {
          "duration": 0.236504,
          "end_time": "2023-06-02T06:05:39.733727",
          "exception": false,
          "start_time": "2023-06-02T06:05:39.497223",
          "status": "completed"
        },
        "tags": [],
        "id": "668c5e60"
      },
      "outputs": [],
      "source": [
        "path='/kaggle/input/respiratory-sound-database/Respiratory_Sound_Database/Respiratory_Sound_Database/audio_and_txt_files/'\n",
        "files=[s.split('.')[0] for s in os.listdir(path) if '.txt' in s]"
      ]
    },
    {
      "cell_type": "code",
      "execution_count": null,
      "id": "33dd8a67",
      "metadata": {
        "execution": {
          "iopub.execute_input": "2023-06-02T06:05:39.757671Z",
          "iopub.status.busy": "2023-06-02T06:05:39.756725Z",
          "iopub.status.idle": "2023-06-02T06:05:39.764678Z",
          "shell.execute_reply": "2023-06-02T06:05:39.763395Z"
        },
        "papermill": {
          "duration": 0.022002,
          "end_time": "2023-06-02T06:05:39.767102",
          "exception": false,
          "start_time": "2023-06-02T06:05:39.745100",
          "status": "completed"
        },
        "tags": [],
        "id": "33dd8a67"
      },
      "outputs": [],
      "source": [
        "files[:10]"
      ]
    },
    {
      "cell_type": "code",
      "execution_count": null,
      "id": "c1720078",
      "metadata": {
        "execution": {
          "iopub.execute_input": "2023-06-02T06:05:39.791245Z",
          "iopub.status.busy": "2023-06-02T06:05:39.789410Z",
          "iopub.status.idle": "2023-06-02T06:05:39.797787Z",
          "shell.execute_reply": "2023-06-02T06:05:39.796793Z"
        },
        "papermill": {
          "duration": 0.022235,
          "end_time": "2023-06-02T06:05:39.800065",
          "exception": false,
          "start_time": "2023-06-02T06:05:39.777830",
          "status": "completed"
        },
        "tags": [],
        "id": "c1720078"
      },
      "outputs": [],
      "source": [
        "def add_noise(data,x):\n",
        "    noise = np.random.randn(len(data))\n",
        "    data_noise = data + x * noise\n",
        "    return data_noise\n",
        "\n",
        "def shift(data,x):\n",
        "    return np.roll(data, x)\n",
        "\n",
        "def stretch(data, rate):\n",
        "    data = librosa.effects.time_stretch(data, rate)\n",
        "    return data\n",
        "\n",
        "def pitch_shift (data , rate):\n",
        "    data = librosa.effects.pitch_shift(data, sr=220250, n_steps=rate)\n",
        "    return data"
      ]
    },
    {
      "cell_type": "code",
      "execution_count": null,
      "id": "640c1bec",
      "metadata": {
        "execution": {
          "iopub.execute_input": "2023-06-02T06:05:39.822793Z",
          "iopub.status.busy": "2023-06-02T06:05:39.822444Z",
          "iopub.status.idle": "2023-06-02T06:05:39.833604Z",
          "shell.execute_reply": "2023-06-02T06:05:39.832634Z"
        },
        "papermill": {
          "duration": 0.024959,
          "end_time": "2023-06-02T06:05:39.835844",
          "exception": false,
          "start_time": "2023-06-02T06:05:39.810885",
          "status": "completed"
        },
        "tags": [],
        "id": "640c1bec"
      },
      "outputs": [],
      "source": [
        "def show_audio(audio_path):\n",
        "    y, sr = librosa.load(audio_path)\n",
        "    y_noise = add_noise(y , 0.0008)\n",
        "    y_shift = shift(y,3200)\n",
        "    y_stretch_1 = stretch(y, 1.2)\n",
        "    y_stretch_2 = stretch(y, 0.8)\n",
        "    y_pitch_shift = pitch_shift(y, 3)\n",
        "\n",
        "    plt.figure(figsize=(20, 8))\n",
        "\n",
        "    plt.subplot(3,2,1)\n",
        "    librosa.display.waveshow(y, sr=sr)\n",
        "    plt.title('orginal')\n",
        "\n",
        "    plt.subplot(3,2,2)\n",
        "    librosa.display.waveshow(y_noise, sr=sr)\n",
        "    plt.title('noise')\n",
        "\n",
        "    plt.subplot(3,2,3)\n",
        "    librosa.display.waveshow(y_shift, sr=sr)\n",
        "    plt.title('shift')\n",
        "\n",
        "    plt.subplot(3,2,4)\n",
        "    librosa.display.waveshow(y_stretch_1, sr=sr)\n",
        "    plt.title('stretch 1')\n",
        "\n",
        "    plt.subplot(3,2,5)\n",
        "    librosa.display.waveshow(y_stretch_2, sr=sr)\n",
        "    plt.title('stretch 2')\n",
        "\n",
        "    plt.subplot(3,2,6)\n",
        "    librosa.display.waveshow(y_pitch_shift, sr=sr)\n",
        "    plt.title('pitch shift')\n",
        "\n",
        "    plt.tight_layout()"
      ]
    },
    {
      "cell_type": "code",
      "execution_count": null,
      "id": "159baa3d",
      "metadata": {
        "execution": {
          "iopub.execute_input": "2023-06-02T06:05:39.858754Z",
          "iopub.status.busy": "2023-06-02T06:05:39.858080Z",
          "iopub.status.idle": "2023-06-02T06:05:39.876327Z",
          "shell.execute_reply": "2023-06-02T06:05:39.875310Z"
        },
        "papermill": {
          "duration": 0.03227,
          "end_time": "2023-06-02T06:05:39.878536",
          "exception": false,
          "start_time": "2023-06-02T06:05:39.846266",
          "status": "completed"
        },
        "tags": [],
        "id": "159baa3d"
      },
      "outputs": [],
      "source": [
        "def show_audio_features(audio_path):\n",
        "    y, sr = librosa.load(audio_path)\n",
        "    y_noise = add_noise(y , 0.0008)\n",
        "    y_shift = shift(y,3200)\n",
        "    y_stretch_1 = stretch(y, 1.2)\n",
        "    y_stretch_2 = stretch(y, 0.8)\n",
        "    y_pitch_shift = pitch_shift(y, 3)\n",
        "\n",
        "    y = librosa.feature.mfcc(y=y, sr=sr, n_mfcc=50)\n",
        "    y_noise = librosa.feature.mfcc(y=y_noise, sr=sr, n_mfcc=50)\n",
        "    y_shift = librosa.feature.mfcc(y=y_shift, sr=sr, n_mfcc=50)\n",
        "    y_stretch_1 = librosa.feature.mfcc(y=y_stretch_1, sr=sr, n_mfcc=50)\n",
        "    y_stretch_2 = librosa.feature.mfcc(y=y_stretch_2, sr=sr, n_mfcc=50)\n",
        "    y_pitch_shift = librosa.feature.mfcc(y=y_pitch_shift, sr=sr, n_mfcc=50)\n",
        "\n",
        "    plt.figure(figsize=(20, 8))\n",
        "\n",
        "    plt.subplot(3,2,1)\n",
        "    librosa.display.specshow(librosa.power_to_db(y,ref=np.max),\n",
        "                             y_axis='mel',\n",
        "                             fmax=8000,\n",
        "                             x_axis='time')\n",
        "    plt.colorbar(format='%+2.0f dB')\n",
        "    plt.title('orginal')\n",
        "\n",
        "    plt.subplot(3,2,2)\n",
        "    librosa.display.specshow(librosa.power_to_db(y_noise,ref=np.max),\n",
        "                             y_axis='mel',\n",
        "                             fmax=8000,\n",
        "                             x_axis='time')\n",
        "    plt.colorbar(format='%+2.0f dB')\n",
        "    plt.title('noise')\n",
        "\n",
        "    plt.subplot(3,2,3)\n",
        "    librosa.display.specshow(librosa.power_to_db(y_shift,ref=np.max),\n",
        "                             y_axis='mel',\n",
        "                             fmax=8000,\n",
        "                             x_axis='time')\n",
        "    plt.colorbar(format='%+2.0f dB')\n",
        "    plt.title('shift')\n",
        "\n",
        "    plt.subplot(3,2,4)\n",
        "    librosa.display.specshow(librosa.power_to_db(y_stretch_1,ref=np.max),\n",
        "                             y_axis='mel',\n",
        "                             fmax=8000,\n",
        "                             x_axis='time')\n",
        "    plt.colorbar(format='%+2.0f dB')\n",
        "    plt.title('stretch 1')\n",
        "\n",
        "    plt.subplot(3,2,5)\n",
        "    librosa.display.specshow(librosa.power_to_db(y_stretch_2,ref=np.max),\n",
        "                             y_axis='mel',\n",
        "                             fmax=8000,\n",
        "                             x_axis='time')\n",
        "    plt.colorbar(format='%+2.0f dB')\n",
        "    plt.title('stretch 2')\n",
        "\n",
        "    plt.subplot(3,2,6)\n",
        "    librosa.display.specshow(librosa.power_to_db(y_pitch_shift,ref=np.max),\n",
        "                             y_axis='mel',\n",
        "                             fmax=8000,\n",
        "                             x_axis='time')\n",
        "    plt.colorbar(format='%+2.0f dB')\n",
        "    plt.title('pitch shift')\n",
        "\n",
        "\n",
        "\n",
        "    plt.tight_layout()"
      ]
    },
    {
      "cell_type": "code",
      "execution_count": null,
      "id": "cfe2a10d",
      "metadata": {
        "execution": {
          "iopub.execute_input": "2023-06-02T06:05:39.900867Z",
          "iopub.status.busy": "2023-06-02T06:05:39.900337Z",
          "iopub.status.idle": "2023-06-02T06:05:46.449318Z",
          "shell.execute_reply": "2023-06-02T06:05:46.448177Z"
        },
        "papermill": {
          "duration": 6.563998,
          "end_time": "2023-06-02T06:05:46.452937",
          "exception": false,
          "start_time": "2023-06-02T06:05:39.888939",
          "status": "completed"
        },
        "tags": [],
        "id": "cfe2a10d"
      },
      "outputs": [],
      "source": [
        "show_audio('/kaggle/input/respiratory-sound-database/Respiratory_Sound_Database/Respiratory_Sound_Database/audio_and_txt_files/104_1b1_Lr_sc_Litt3200.wav')"
      ]
    },
    {
      "cell_type": "code",
      "execution_count": null,
      "id": "d15a3440",
      "metadata": {
        "execution": {
          "iopub.execute_input": "2023-06-02T06:05:46.480510Z",
          "iopub.status.busy": "2023-06-02T06:05:46.480150Z",
          "iopub.status.idle": "2023-06-02T06:05:49.524287Z",
          "shell.execute_reply": "2023-06-02T06:05:49.523360Z"
        },
        "papermill": {
          "duration": 3.064315,
          "end_time": "2023-06-02T06:05:49.530159",
          "exception": false,
          "start_time": "2023-06-02T06:05:46.465844",
          "status": "completed"
        },
        "tags": [],
        "id": "d15a3440"
      },
      "outputs": [],
      "source": [
        "show_audio_features('/kaggle/input/respiratory-sound-database/Respiratory_Sound_Database/Respiratory_Sound_Database/audio_and_txt_files/104_1b1_Lr_sc_Litt3200.wav')"
      ]
    },
    {
      "cell_type": "code",
      "execution_count": null,
      "id": "329fed7e",
      "metadata": {
        "execution": {
          "iopub.execute_input": "2023-06-02T06:05:49.565410Z",
          "iopub.status.busy": "2023-06-02T06:05:49.564526Z",
          "iopub.status.idle": "2023-06-02T06:05:49.597172Z",
          "shell.execute_reply": "2023-06-02T06:05:49.596226Z"
        },
        "papermill": {
          "duration": 0.053072,
          "end_time": "2023-06-02T06:05:49.599695",
          "exception": false,
          "start_time": "2023-06-02T06:05:49.546623",
          "status": "completed"
        },
        "tags": [],
        "id": "329fed7e"
      },
      "outputs": [],
      "source": [
        "def mfccs_feature_exteraction(dir_):\n",
        "    '''\n",
        "        Extract MFCC feature from the Sound data from the audio data.\n",
        "        Augmentation of sound data by adding Noise, streaching and shifting.\n",
        "        50 features are extracted from each audio data and used to train the model.\n",
        "        Also, we remove .wav files with patient_id 103,108, and 115 to solve data imbalance, because they have unique lables.\n",
        "\n",
        "        Args: dir_: Input directory to the Sound input file.\n",
        "\n",
        "        Returns:\n",
        "            X_data: Array of features extracted from the sound file.\n",
        "            y_data: Array of target Labels.\n",
        "    '''\n",
        "    X_=[]\n",
        "    y_=[]\n",
        "\n",
        "    COPD=[]\n",
        "    copd_count=0\n",
        "\n",
        "    data = diagnosis_df\n",
        "    features = 52\n",
        "\n",
        "    for soundDir in (os.listdir(dir_)):\n",
        "        if soundDir[-3:]=='wav'and soundDir[:3]!='103'and soundDir[:3]!='108'and soundDir[:3]!='115':\n",
        "\n",
        "            p = list(data[data['patient_id']==int(soundDir[:3])]['disease'])[0]\n",
        "            if (p=='COPD'):\n",
        "                if (soundDir[:6] in COPD) and copd_count<2:\n",
        "                    data_x, sampling_rate = librosa.load(dir_+soundDir,res_type='kaiser_fast')\n",
        "                    mfccs = np.mean(librosa.feature.mfcc(y=data_x, sr=sampling_rate, n_mfcc=features).T,axis=0)\n",
        "                    COPD.append(soundDir[:6])\n",
        "                    copd_count+=1\n",
        "                    X_.append(mfccs)\n",
        "                    y_.append(list(data[data['patient_id']==int(soundDir[:3])]['disease'])[0])\n",
        "\n",
        "                if (soundDir[:6] not in COPD):\n",
        "                    data_x, sampling_rate = librosa.load(dir_+soundDir,res_type='kaiser_fast')\n",
        "                    mfccs = np.mean(librosa.feature.mfcc(y=data_x, sr=sampling_rate, n_mfcc=features).T,axis=0)\n",
        "                    COPD.append(soundDir[:6])\n",
        "                    copd_count=0\n",
        "                    X_.append(mfccs)\n",
        "                    y_.append(list(data[data['patient_id']==int(soundDir[:3])]['disease'])[0])\n",
        "\n",
        "            if (p!='COPD'):\n",
        "                if ((p == 'Bronchiectasis') or (p == 'Bronchiolitis')):\n",
        "                    data_x, sampling_rate = librosa.load(dir_+soundDir,res_type='kaiser_fast')\n",
        "                    mfccs = np.mean(librosa.feature.mfcc(y=data_x, sr=sampling_rate, n_mfcc=features).T,axis=0)\n",
        "                    X_.append(mfccs)\n",
        "                    y_.append('Bronchiolitis')\n",
        "\n",
        "                    data_noise = add_noise(data_x,0.001)\n",
        "                    mfccs_noise = np.mean(librosa.feature.mfcc(y=data_noise, sr=sampling_rate, n_mfcc=features).T,axis=0)\n",
        "                    X_.append(mfccs_noise)\n",
        "                    y_.append('Bronchiolitis')\n",
        "\n",
        "                    data_shift = shift(data_x,1600)\n",
        "                    mfccs_shift = np.mean(librosa.feature.mfcc(y=data_shift, sr=sampling_rate, n_mfcc=features).T,axis=0)\n",
        "                    X_.append(mfccs_shift)\n",
        "                    y_.append('Bronchiolitis')\n",
        "\n",
        "                    data_stretch = stretch(data_x,1.2)\n",
        "                    mfccs_stretch = np.mean(librosa.feature.mfcc(y=data_stretch, sr=sampling_rate, n_mfcc=features).T,axis=0)\n",
        "                    X_.append(mfccs_stretch)\n",
        "                    y_.append('Bronchiolitis')\n",
        "\n",
        "                    data_stretch_2 = stretch(data_x,0.8)\n",
        "                    mfccs_stretch_2 = np.mean(librosa.feature.mfcc(y=data_stretch_2, sr=sampling_rate, n_mfcc=features).T,axis=0)\n",
        "                    X_.append(mfccs_stretch_2)\n",
        "                    y_.append('Bronchiolitis')\n",
        "\n",
        "                    data_pitch_shift = pitch_shift(data_x,3)\n",
        "                    mfccs_stretch = np.mean(librosa.feature.melspectrogram(y=data_pitch_shift, sr=sampling_rate, n_mels=features).T,axis=0)\n",
        "                    X_.append(mfccs_stretch)\n",
        "                    y_.append('Bronchiolitis')\n",
        "\n",
        "                else:\n",
        "                    data_x, sampling_rate = librosa.load(dir_+soundDir,res_type='kaiser_fast')\n",
        "                    mfccs = np.mean(librosa.feature.mfcc(y=data_x, sr=sampling_rate, n_mfcc=features).T,axis=0)\n",
        "                    X_.append(mfccs)\n",
        "                    y_.append(list(data[data['patient_id']==int(soundDir[:3])]['disease'])[0])\n",
        "\n",
        "                    data_noise = add_noise(data_x,0.001)\n",
        "                    mfccs_noise = np.mean(librosa.feature.mfcc(y=data_noise, sr=sampling_rate, n_mfcc=features).T,axis=0)\n",
        "                    X_.append(mfccs_noise)\n",
        "                    y_.append(p)\n",
        "\n",
        "                    data_shift = shift(data_x,1600)\n",
        "                    mfccs_shift = np.mean(librosa.feature.mfcc(y=data_shift, sr=sampling_rate, n_mfcc=features).T,axis=0)\n",
        "                    X_.append(mfccs_shift)\n",
        "                    y_.append(p)\n",
        "\n",
        "                    data_stretch = stretch(data_x,1.2)\n",
        "                    mfccs_stretch = np.mean(librosa.feature.mfcc(y=data_stretch, sr=sampling_rate, n_mfcc=features).T,axis=0)\n",
        "                    X_.append(mfccs_stretch)\n",
        "                    y_.append(p)\n",
        "\n",
        "                    data_stretch_2 = stretch(data_x,0.8)\n",
        "                    mfccs_stretch_2 = np.mean(librosa.feature.mfcc(y=data_stretch_2, sr=sampling_rate, n_mfcc=features).T,axis=0)\n",
        "                    X_.append(mfccs_stretch_2)\n",
        "                    y_.append(p)\n",
        "\n",
        "                    data_pitch_shift = pitch_shift(data_x,3)\n",
        "                    mfccs_stretch = np.mean(librosa.feature.melspectrogram(y=data_pitch_shift, sr=sampling_rate, n_mels=features).T,axis=0)\n",
        "                    X_.append(mfccs_stretch)\n",
        "                    y_.append(p)\n",
        "\n",
        "\n",
        "\n",
        "    X_data = np.array(X_)\n",
        "    y_data = np.array(y_)\n",
        "\n",
        "\n",
        "    return X_data, y_data"
      ]
    },
    {
      "cell_type": "code",
      "execution_count": null,
      "id": "85bd63a6",
      "metadata": {
        "execution": {
          "iopub.execute_input": "2023-06-02T06:05:49.634123Z",
          "iopub.status.busy": "2023-06-02T06:05:49.633166Z",
          "iopub.status.idle": "2023-06-02T06:11:04.650083Z",
          "shell.execute_reply": "2023-06-02T06:11:04.648024Z"
        },
        "papermill": {
          "duration": 315.038874,
          "end_time": "2023-06-02T06:11:04.654838",
          "exception": false,
          "start_time": "2023-06-02T06:05:49.615964",
          "status": "completed"
        },
        "tags": [],
        "id": "85bd63a6"
      },
      "outputs": [],
      "source": [
        "x_mfccs, y = mfccs_feature_exteraction(audio_data)"
      ]
    },
    {
      "cell_type": "code",
      "execution_count": null,
      "id": "277af3f4",
      "metadata": {
        "execution": {
          "iopub.execute_input": "2023-06-02T06:11:04.726549Z",
          "iopub.status.busy": "2023-06-02T06:11:04.725948Z",
          "iopub.status.idle": "2023-06-02T06:11:04.738360Z",
          "shell.execute_reply": "2023-06-02T06:11:04.737022Z"
        },
        "papermill": {
          "duration": 0.051385,
          "end_time": "2023-06-02T06:11:04.741769",
          "exception": false,
          "start_time": "2023-06-02T06:11:04.690384",
          "status": "completed"
        },
        "tags": [],
        "id": "277af3f4"
      },
      "outputs": [],
      "source": [
        "def augmented_lables_count(lables):\n",
        "    unique, counts = np.unique(lables, return_counts=True)\n",
        "    data_count = dict(zip(unique, counts))\n",
        "\n",
        "    data = data_count\n",
        "\n",
        "    courses = list(data.keys())\n",
        "    values = list(data.values())\n",
        "\n",
        "    fig = plt.figure(figsize = (10, 5))\n",
        "\n",
        "    # creating the bar plot\n",
        "    plt.bar(courses, values, color =['orange','green','blue','red','yellow','black'],\n",
        "            width = 0.4)\n",
        "\n",
        "    plt.xlabel(\"Diseases\")\n",
        "    plt.ylabel(\"Count\")\n",
        "    plt.title(\"Count of each disease\")\n",
        "    plt.show()\n",
        "\n",
        "    print (data_count)"
      ]
    },
    {
      "cell_type": "code",
      "execution_count": null,
      "id": "43b2f6af",
      "metadata": {
        "execution": {
          "iopub.execute_input": "2023-06-02T06:11:04.793636Z",
          "iopub.status.busy": "2023-06-02T06:11:04.793247Z",
          "iopub.status.idle": "2023-06-02T06:11:04.977794Z",
          "shell.execute_reply": "2023-06-02T06:11:04.976748Z"
        },
        "papermill": {
          "duration": 0.205056,
          "end_time": "2023-06-02T06:11:04.980615",
          "exception": false,
          "start_time": "2023-06-02T06:11:04.775559",
          "status": "completed"
        },
        "tags": [],
        "id": "43b2f6af"
      },
      "outputs": [],
      "source": [
        "augmented_lables_count(y)"
      ]
    },
    {
      "cell_type": "code",
      "execution_count": null,
      "id": "88a7ac81",
      "metadata": {
        "execution": {
          "iopub.execute_input": "2023-06-02T06:11:05.015824Z",
          "iopub.status.busy": "2023-06-02T06:11:05.014850Z",
          "iopub.status.idle": "2023-06-02T06:11:05.043678Z",
          "shell.execute_reply": "2023-06-02T06:11:05.042697Z"
        },
        "papermill": {
          "duration": 0.048967,
          "end_time": "2023-06-02T06:11:05.046075",
          "exception": false,
          "start_time": "2023-06-02T06:11:04.997108",
          "status": "completed"
        },
        "tags": [],
        "id": "88a7ac81"
      },
      "outputs": [],
      "source": [
        "y_data_encode = y.reshape(y.shape[0],1)\n",
        "y_data_encode = np.where(y_data_encode == 'COPD',np.array([1,0,0,0,0]).reshape(1,5) , y_data_encode)\n",
        "y_data_encode = np.where(y_data_encode == 'Bronchiolitis',np.array([0,1,0,0,0]).reshape(1,5) , y_data_encode)\n",
        "y_data_encode = np.where(y_data_encode == 'Pneumonia',np.array([0,0,1,0,0]).reshape(1,5) , y_data_encode)\n",
        "y_data_encode = np.where(y_data_encode == 'URTI',np.array([0,0,0,1,0]).reshape(1,5) , y_data_encode)\n",
        "y_data_encode = np.where(y_data_encode == 'Healthy',np.array([0,0,0,0,1]).reshape(1,5) , y_data_encode)\n",
        "\n",
        "Y_data = y_data_encode.astype('float64')"
      ]
    },
    {
      "cell_type": "code",
      "execution_count": null,
      "id": "e9d80963",
      "metadata": {
        "execution": {
          "iopub.execute_input": "2023-06-02T06:11:05.081271Z",
          "iopub.status.busy": "2023-06-02T06:11:05.080217Z",
          "iopub.status.idle": "2023-06-02T06:11:05.088430Z",
          "shell.execute_reply": "2023-06-02T06:11:05.087376Z"
        },
        "papermill": {
          "duration": 0.027975,
          "end_time": "2023-06-02T06:11:05.090647",
          "exception": false,
          "start_time": "2023-06-02T06:11:05.062672",
          "status": "completed"
        },
        "tags": [],
        "id": "e9d80963"
      },
      "outputs": [],
      "source": [
        "mfccs_features = np.array(x_mfccs)\n",
        "lables = np.array(Y_data)\n",
        "\n",
        "mfccs_features.shape , lables.shape"
      ]
    },
    {
      "cell_type": "code",
      "execution_count": null,
      "id": "15579754",
      "metadata": {
        "execution": {
          "iopub.execute_input": "2023-06-02T06:11:05.126872Z",
          "iopub.status.busy": "2023-06-02T06:11:05.125322Z",
          "iopub.status.idle": "2023-06-02T06:11:05.135749Z",
          "shell.execute_reply": "2023-06-02T06:11:05.134381Z"
        },
        "papermill": {
          "duration": 0.031024,
          "end_time": "2023-06-02T06:11:05.137989",
          "exception": false,
          "start_time": "2023-06-02T06:11:05.106965",
          "status": "completed"
        },
        "tags": [],
        "id": "15579754"
      },
      "outputs": [],
      "source": [
        "mfcc_train, mfcc_val, lables_train, lables_val  = train_test_split(mfccs_features, lables, test_size=0.175, random_state=10)\n",
        "mfcc_train, mfcc_test, lables_train, lables_test = train_test_split(mfcc_train, lables_train, test_size=0.075, random_state=10)\n",
        "\n",
        "print (mfcc_train.shape, mfcc_val.shape, mfcc_test.shape)\n",
        "print (lables_train.shape, lables_val.shape, lables_test.shape)"
      ]
    },
    {
      "cell_type": "code",
      "execution_count": null,
      "id": "73a54932",
      "metadata": {
        "execution": {
          "iopub.execute_input": "2023-06-02T06:11:05.173285Z",
          "iopub.status.busy": "2023-06-02T06:11:05.172332Z",
          "iopub.status.idle": "2023-06-02T06:11:05.180733Z",
          "shell.execute_reply": "2023-06-02T06:11:05.179807Z"
        },
        "papermill": {
          "duration": 0.028598,
          "end_time": "2023-06-02T06:11:05.182941",
          "exception": false,
          "start_time": "2023-06-02T06:11:05.154343",
          "status": "completed"
        },
        "tags": [],
        "id": "73a54932"
      },
      "outputs": [],
      "source": [
        "def plot_loss_curves(history):\n",
        "  \"\"\"\n",
        "  Returns separate loss curves for training and validation metrics.\n",
        "  Args:\n",
        "    history: TensorFlow model History object (see: https://www.tensorflow.org/api_docs/python/tf/keras/callbacks/History)\n",
        "  \"\"\"\n",
        "  loss = history.history['loss']\n",
        "  val_loss = history.history['val_loss']\n",
        "\n",
        "  accuracy = history.history['accuracy']\n",
        "  val_accuracy = history.history['val_accuracy']\n",
        "\n",
        "  epochs = range(len(history.history['loss']))\n",
        "\n",
        "  # Plot loss\n",
        "#   plt.plot(epochs, loss, label='training_loss')\n",
        "#   plt.plot(epochs, val_loss, label='val_loss')\n",
        "#   plt.title('Loss')\n",
        "#   plt.xlabel('Epochs')\n",
        "#   plt.legend()\n",
        "#   plt.grid()\n",
        "\n",
        "\n",
        "  # Plot accuracy\n",
        "  plt.figure()\n",
        "  plt.grid()\n",
        "  plt.plot(epochs, accuracy, label='training_accuracy')\n",
        "  plt.plot(epochs, val_accuracy, label='val_accuracy')\n",
        "  plt.title('Accuracy')\n",
        "  plt.xlabel('Epochs')\n",
        "  plt.legend();\n"
      ]
    },
    {
      "cell_type": "code",
      "execution_count": null,
      "id": "86f201d1",
      "metadata": {
        "execution": {
          "iopub.execute_input": "2023-06-02T06:11:05.218271Z",
          "iopub.status.busy": "2023-06-02T06:11:05.217597Z",
          "iopub.status.idle": "2023-06-02T06:11:05.223971Z",
          "shell.execute_reply": "2023-06-02T06:11:05.222972Z"
        },
        "papermill": {
          "duration": 0.026314,
          "end_time": "2023-06-02T06:11:05.226068",
          "exception": false,
          "start_time": "2023-06-02T06:11:05.199754",
          "status": "completed"
        },
        "tags": [],
        "id": "86f201d1"
      },
      "outputs": [],
      "source": [
        "x_train_gru = np.expand_dims(mfcc_train,axis=1)\n",
        "x_val_gru = np.expand_dims(mfcc_val,axis=1)\n",
        "x_test_gru = np.expand_dims(mfcc_test,axis=1)\n",
        "\n",
        "y_train_gru = np.expand_dims(lables_train,axis=1)\n",
        "y_val_gru = np.expand_dims(lables_val,axis=1)\n",
        "y_test_gru = np.expand_dims(lables_test,axis=1)"
      ]
    },
    {
      "cell_type": "code",
      "execution_count": null,
      "id": "c90f6b2e",
      "metadata": {
        "execution": {
          "iopub.execute_input": "2023-06-02T06:11:05.261081Z",
          "iopub.status.busy": "2023-06-02T06:11:05.260433Z",
          "iopub.status.idle": "2023-06-02T06:11:10.377910Z",
          "shell.execute_reply": "2023-06-02T06:11:10.376844Z"
        },
        "papermill": {
          "duration": 5.139018,
          "end_time": "2023-06-02T06:11:10.381442",
          "exception": false,
          "start_time": "2023-06-02T06:11:05.242424",
          "status": "completed"
        },
        "tags": [],
        "id": "c90f6b2e"
      },
      "outputs": [],
      "source": [
        "Input_Sample = Input(shape=(1,52))\n",
        "\n",
        "model_conv = Conv1D(256, kernel_size=5, strides=1, padding='same', activation='relu')(Input_Sample)\n",
        "model_conv = MaxPooling1D(pool_size=2, strides = 2, padding = 'same')(model_conv)\n",
        "model_conv = BatchNormalization()(model_conv)\n",
        "\n",
        "model_conv = Conv1D(512, kernel_size=5, strides=1, padding='same', activation='relu')(model_conv)\n",
        "model_conv = MaxPooling1D(pool_size=2, strides = 2, padding = 'same')(model_conv)\n",
        "model_conv = BatchNormalization()(model_conv)\n",
        "\n",
        "model_2_1 = GRU(32,return_sequences=True,activation='tanh',go_backwards=True)(model_conv)\n",
        "model_2 = GRU(128,return_sequences=True, activation='tanh',go_backwards=True)(model_2_1)\n",
        "\n",
        "model_3 = GRU(64,return_sequences=True,activation='tanh',go_backwards=True)(model_conv)\n",
        "model_3 = GRU(128,return_sequences=True, activation='tanh',go_backwards=True)(model_3)\n",
        "\n",
        "model_x = GRU(64,return_sequences=True,activation='tanh',go_backwards=True)(model_conv)\n",
        "model_x = GRU(128,return_sequences=True, activation='tanh',go_backwards=True)(model_x)\n",
        "\n",
        "model_add_1 = add([model_3,model_2,model_x])\n",
        "\n",
        "model_5 = GRU(128,return_sequences=True,activation='tanh',go_backwards=True)(model_add_1)\n",
        "model_5 = GRU(32,return_sequences=True, activation='tanh',go_backwards=True)(model_5)\n",
        "\n",
        "model_6 = GRU(64,return_sequences=True,activation='tanh',go_backwards=True)(model_add_1)\n",
        "model_6 = GRU(32,return_sequences=True, activation='tanh',go_backwards=True)(model_6)\n",
        "\n",
        "model_add_2 = add([model_5,model_6,model_2_1])\n",
        "\n",
        "\n",
        "model_7 = Dense(32, activation=None)(model_add_2)\n",
        "model_7 = LeakyReLU()(model_7)\n",
        "model_7 = Dense(128, activation=None)(model_7)\n",
        "model_7 = LeakyReLU()(model_7)\n",
        "\n",
        "model_9 = Dense(64, activation=None)(model_add_2)\n",
        "model_9 = LeakyReLU()(model_9)\n",
        "model_9 = Dense(128, activation=None)(model_9)\n",
        "model_9 = LeakyReLU()(model_9)\n",
        "\n",
        "model_add_3 = add([model_7,model_9])\n",
        "\n",
        "model_10 = Dense(64, activation=None)(model_add_3)\n",
        "model_10 = LeakyReLU()(model_10)\n",
        "\n",
        "model_10 = Dense(32, activation=None)(model_10)\n",
        "model_10 = LeakyReLU()(model_10)\n",
        "\n",
        "model_10 = Dense(5, activation=\"softmax\")(model_10)\n",
        "\n",
        "gru_model = Model(inputs=Input_Sample, outputs = model_10)\n",
        "\n",
        "gru_model.summary()"
      ]
    },
    {
      "cell_type": "code",
      "execution_count": null,
      "id": "d0037c14",
      "metadata": {
        "execution": {
          "iopub.execute_input": "2023-06-02T06:11:10.418904Z",
          "iopub.status.busy": "2023-06-02T06:11:10.416959Z",
          "iopub.status.idle": "2023-06-02T06:11:11.614727Z",
          "shell.execute_reply": "2023-06-02T06:11:11.613589Z"
        },
        "papermill": {
          "duration": 1.220993,
          "end_time": "2023-06-02T06:11:11.619359",
          "exception": false,
          "start_time": "2023-06-02T06:11:10.398366",
          "status": "completed"
        },
        "tags": [],
        "id": "d0037c14"
      },
      "outputs": [],
      "source": [
        "tf.keras.utils.plot_model(gru_model, \"gru_model.png\", show_shapes=True)"
      ]
    },
    {
      "cell_type": "code",
      "execution_count": null,
      "id": "03b42733",
      "metadata": {
        "execution": {
          "iopub.execute_input": "2023-06-02T06:11:11.663223Z",
          "iopub.status.busy": "2023-06-02T06:11:11.662810Z",
          "iopub.status.idle": "2023-06-02T06:11:11.684934Z",
          "shell.execute_reply": "2023-06-02T06:11:11.683974Z"
        },
        "papermill": {
          "duration": 0.04738,
          "end_time": "2023-06-02T06:11:11.687404",
          "exception": false,
          "start_time": "2023-06-02T06:11:11.640024",
          "status": "completed"
        },
        "tags": [],
        "id": "03b42733"
      },
      "outputs": [],
      "source": [
        "optimiser = tf.keras.optimizers.Adam(learning_rate = 0.0001)\n",
        "gru_model.compile(optimizer=optimiser, loss='categorical_crossentropy',metrics=['accuracy'])\n",
        "\n",
        "cb = [EarlyStopping(patience=300,monitor='accuracy',mode='max',restore_best_weights=True),\n",
        "      ModelCheckpoint(\"/kaggle/working/diagnosis_GRU_CNN_1.h5\",save_best_only=True)]"
      ]
    },
    {
      "cell_type": "code",
      "execution_count": null,
      "id": "1326b63c",
      "metadata": {
        "execution": {
          "iopub.execute_input": "2023-06-02T06:11:11.730096Z",
          "iopub.status.busy": "2023-06-02T06:11:11.729136Z",
          "iopub.status.idle": "2023-06-02T06:13:46.387414Z",
          "shell.execute_reply": "2023-06-02T06:13:46.386284Z"
        },
        "papermill": {
          "duration": 154.682898,
          "end_time": "2023-06-02T06:13:46.390258",
          "exception": false,
          "start_time": "2023-06-02T06:11:11.707360",
          "status": "completed"
        },
        "tags": [],
        "id": "1326b63c"
      },
      "outputs": [],
      "source": [
        "history = gru_model.fit(x_train_gru, y_train_gru, batch_size=8, epochs=50, validation_data=(x_val_gru, y_val_gru), callbacks = cb)"
      ]
    },
    {
      "cell_type": "code",
      "execution_count": null,
      "id": "39d903ee",
      "metadata": {
        "execution": {
          "iopub.execute_input": "2023-06-02T06:13:46.651633Z",
          "iopub.status.busy": "2023-06-02T06:13:46.651232Z",
          "iopub.status.idle": "2023-06-02T06:13:49.839569Z",
          "shell.execute_reply": "2023-06-02T06:13:49.838535Z"
        },
        "papermill": {
          "duration": 3.321648,
          "end_time": "2023-06-02T06:13:49.841949",
          "exception": false,
          "start_time": "2023-06-02T06:13:46.520301",
          "status": "completed"
        },
        "tags": [],
        "id": "39d903ee"
      },
      "outputs": [],
      "source": [
        "gru_model.evaluate(x_train_gru, y_train_gru)\n",
        "\n",
        "plot_loss_curves(history)"
      ]
    },
    {
      "cell_type": "code",
      "execution_count": null,
      "id": "9a901715",
      "metadata": {
        "execution": {
          "iopub.execute_input": "2023-06-02T06:13:50.097068Z",
          "iopub.status.busy": "2023-06-02T06:13:50.096680Z",
          "iopub.status.idle": "2023-06-02T06:13:53.052465Z",
          "shell.execute_reply": "2023-06-02T06:13:53.051485Z"
        },
        "papermill": {
          "duration": 3.086597,
          "end_time": "2023-06-02T06:13:53.054698",
          "exception": false,
          "start_time": "2023-06-02T06:13:49.968101",
          "status": "completed"
        },
        "tags": [],
        "id": "9a901715"
      },
      "outputs": [],
      "source": [
        "classes = [\"COPD\" ,\"Bronchiolitis \", \"Pneumoina\", \"URTI\", \"Healthy\"]\n",
        "\n",
        "preds = gru_model.predict(x_test_gru)\n",
        "classpreds = [np.argmax(t) for t in preds ]\n",
        "y_testclass = [np.argmax(t) for t in y_test_gru]\n",
        "cm = confusion_matrix(y_testclass, classpreds)\n",
        "\n",
        "plt.figure(figsize=(8, 6), dpi=80, facecolor='w', edgecolor='k')\n",
        "ax = sns.heatmap(cm, cmap='Blues', annot=True, fmt='d', xticklabels=classes, yticklabels=classes)\n",
        "\n",
        "plt.title('')\n",
        "plt.xlabel('Prediction')\n",
        "plt.ylabel('Truth')\n",
        "plt.show(ax)"
      ]
    },
    {
      "cell_type": "code",
      "execution_count": null,
      "id": "6c62c60f",
      "metadata": {
        "execution": {
          "iopub.execute_input": "2023-06-02T06:13:53.310868Z",
          "iopub.status.busy": "2023-06-02T06:13:53.309047Z",
          "iopub.status.idle": "2023-06-02T06:13:53.321414Z",
          "shell.execute_reply": "2023-06-02T06:13:53.319852Z"
        },
        "papermill": {
          "duration": 0.143026,
          "end_time": "2023-06-02T06:13:53.323827",
          "exception": false,
          "start_time": "2023-06-02T06:13:53.180801",
          "status": "completed"
        },
        "tags": [],
        "id": "6c62c60f"
      },
      "outputs": [],
      "source": [
        "print(classification_report(y_testclass, classpreds, target_names=classes))"
      ]
    },
    {
      "cell_type": "code",
      "execution_count": null,
      "id": "83457f44",
      "metadata": {
        "execution": {
          "iopub.execute_input": "2023-06-02T06:13:53.587600Z",
          "iopub.status.busy": "2023-06-02T06:13:53.586830Z",
          "iopub.status.idle": "2023-06-02T06:13:53.596175Z",
          "shell.execute_reply": "2023-06-02T06:13:53.594184Z"
        },
        "papermill": {
          "duration": 0.144449,
          "end_time": "2023-06-02T06:13:53.598420",
          "exception": false,
          "start_time": "2023-06-02T06:13:53.453971",
          "status": "completed"
        },
        "tags": [],
        "id": "83457f44"
      },
      "outputs": [],
      "source": [
        "def gru_diagnosis_prediction(test_audio):\n",
        "    data_x, sampling_rate = librosa.load(test_audio)\n",
        "    data_x = stretch (data_x,1.2)\n",
        "\n",
        "    features = np.mean(librosa.feature.mfcc(y=data_x, sr=sampling_rate, n_mfcc=52).T,axis = 0)\n",
        "\n",
        "    features = features.reshape(1,52)\n",
        "\n",
        "    test_pred = gru_model.predict(np.expand_dims(features, axis = 1))\n",
        "    classpreds = classes[np.argmax(test_pred[0], axis=1)[0]]\n",
        "    confidence = test_pred.T[test_pred[0].mean(axis=0).argmax()].mean()\n",
        "\n",
        "    print (classpreds , confidence)"
      ]
    },
    {
      "cell_type": "code",
      "execution_count": null,
      "id": "3cf1d219",
      "metadata": {
        "execution": {
          "iopub.execute_input": "2023-06-02T06:13:53.858686Z",
          "iopub.status.busy": "2023-06-02T06:13:53.857657Z",
          "iopub.status.idle": "2023-06-02T06:13:54.154525Z",
          "shell.execute_reply": "2023-06-02T06:13:54.153005Z"
        },
        "papermill": {
          "duration": 0.432903,
          "end_time": "2023-06-02T06:13:54.158715",
          "exception": false,
          "start_time": "2023-06-02T06:13:53.725812",
          "status": "completed"
        },
        "tags": [],
        "id": "3cf1d219"
      },
      "outputs": [],
      "source": [
        "val=[]\n",
        "dir_= '/kaggle/input/respiratory-test/107_2b5_Ar_mc_AKGC417L.wav'\n",
        "features = 52\n",
        "\n",
        "soundDir = ''#'/kaggle/input/respiratory-test'\n",
        "data_x, sampling_rate = librosa.load(dir_+soundDir,res_type='kaiser_fast')\n",
        "mfccs = np.mean(librosa.feature.mfcc(y=data_x, sr=sampling_rate, n_mfcc=features).T,axis=0)\n",
        "val.append(mfccs)\n",
        "val = np.expand_dims(val,axis=1)"
      ]
    },
    {
      "cell_type": "code",
      "execution_count": null,
      "id": "e02bb909",
      "metadata": {
        "execution": {
          "iopub.execute_input": "2023-06-02T06:13:54.480064Z",
          "iopub.status.busy": "2023-06-02T06:13:54.479685Z",
          "iopub.status.idle": "2023-06-02T06:13:54.547565Z",
          "shell.execute_reply": "2023-06-02T06:13:54.546626Z"
        },
        "papermill": {
          "duration": 0.19818,
          "end_time": "2023-06-02T06:13:54.549872",
          "exception": false,
          "start_time": "2023-06-02T06:13:54.351692",
          "status": "completed"
        },
        "tags": [],
        "id": "e02bb909"
      },
      "outputs": [],
      "source": [
        "classes[np.argmax(gru_model.predict(val))]"
      ]
    },
    {
      "cell_type": "code",
      "execution_count": null,
      "id": "29d30106",
      "metadata": {
        "papermill": {
          "duration": 0.127185,
          "end_time": "2023-06-02T06:13:54.804503",
          "exception": false,
          "start_time": "2023-06-02T06:13:54.677318",
          "status": "completed"
        },
        "tags": [],
        "id": "29d30106"
      },
      "outputs": [],
      "source": []
    }
  ],
  "metadata": {
    "kernelspec": {
      "display_name": "Python 3",
      "language": "python",
      "name": "python3"
    },
    "language_info": {
      "codemirror_mode": {
        "name": "ipython",
        "version": 3
      },
      "file_extension": ".py",
      "mimetype": "text/x-python",
      "name": "python",
      "nbconvert_exporter": "python",
      "pygments_lexer": "ipython3",
      "version": "3.7.12"
    },
    "papermill": {
      "default_parameters": {},
      "duration": 516.751148,
      "end_time": "2023-06-02T06:13:58.613647",
      "environment_variables": {},
      "exception": null,
      "input_path": "__notebook__.ipynb",
      "output_path": "__notebook__.ipynb",
      "parameters": {},
      "start_time": "2023-06-02T06:05:21.862499",
      "version": "2.3.4"
    },
    "colab": {
      "provenance": [],
      "toc_visible": true,
      "include_colab_link": true
    }
  },
  "nbformat": 4,
  "nbformat_minor": 5
}